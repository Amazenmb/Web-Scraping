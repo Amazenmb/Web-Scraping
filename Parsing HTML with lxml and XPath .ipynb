{
 "cells": [
  {
   "cell_type": "markdown",
   "id": "7ea5fd75",
   "metadata": {},
   "source": [
    "lxml is a high-speed parser that supports XPath queries, ideal when you need precision."
   ]
  },
  {
   "cell_type": "code",
   "execution_count": 1,
   "id": "2b085fe5",
   "metadata": {},
   "outputs": [],
   "source": [
    "from lxml import html\n",
    "import requests"
   ]
  },
  {
   "cell_type": "code",
   "execution_count": 4,
   "id": "b26cbd81",
   "metadata": {},
   "outputs": [
    {
     "name": "stdout",
     "output_type": "stream",
     "text": [
      "This domain is for use in illustrative examples in documents. You may use this\n",
      "    domain in literature without prior coordination or asking for permission.\n"
     ]
    }
   ],
   "source": [
    "url=\"https://example.com\"\n",
    "response=requests.get(url)\n",
    "tree=html.fromstring(response.content)\n",
    "\n",
    "#Extract all link texts\n",
    "link_titles=tree.xpath('//p/text()')\n",
    "\n",
    "for title in link_titles:\n",
    "    print(title)"
   ]
  },
  {
   "cell_type": "markdown",
   "id": "c6fedda1",
   "metadata": {},
   "source": [
    "Explanation:\n",
    "html.fromstring(): Parses HTML into an element tree.\n",
    "tree.xpath(): Uses XPath to extract specific tags or data"
   ]
  }
 ],
 "metadata": {
  "kernelspec": {
   "display_name": "Python 3",
   "language": "python",
   "name": "python3"
  },
  "language_info": {
   "codemirror_mode": {
    "name": "ipython",
    "version": 3
   },
   "file_extension": ".py",
   "mimetype": "text/x-python",
   "name": "python",
   "nbconvert_exporter": "python",
   "pygments_lexer": "ipython3",
   "version": "3.8.8"
  }
 },
 "nbformat": 4,
 "nbformat_minor": 5
}
