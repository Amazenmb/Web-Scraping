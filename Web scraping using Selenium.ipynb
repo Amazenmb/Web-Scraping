{
 "cells": [
  {
   "cell_type": "markdown",
   "id": "19fe2966",
   "metadata": {},
   "source": [
    "# Web Scraping Using Selenium"
   ]
  },
  {
   "cell_type": "markdown",
   "id": "ffa62c60",
   "metadata": {},
   "source": [
    "*Selenium*:\n",
    " Unlike BeautifulSoup which  is used for web scraping static websites like blog or articles or news, etc. Selenium can be used for websites which load their content dynamically using Javascript.\n",
    "      It can automate browsers like Chrome or FireFox, wait for content ot load, click buttons, scroll and extract fully rendered web pages like a real user.\n",
    "      \n",
    "\n",
    "*WebDriver*\n",
    "Used by Selenium to interact with a web browser and acts as a bridge between the python script and the web browser.\n",
    "\n",
    "Each browser has its own WebDriver:\n",
    "- Chrome: ChromeDriver\n",
    "- FireFox: GeckoDriver\n",
    "- Edge: EdgeDriver\n"
   ]
  },
  {
   "cell_type": "code",
   "execution_count": 7,
   "id": "d1fad17e",
   "metadata": {},
   "outputs": [
    {
     "name": "stdout",
     "output_type": "stream",
     "text": [
      "Requirement already satisfied: selenium in f:\\anaconda\\che\\lib\\site-packages (4.27.1)\n",
      "Requirement already satisfied: urllib3[socks]<3,>=1.26 in f:\\anaconda\\che\\lib\\site-packages (from selenium) (1.26.4)\n",
      "Requirement already satisfied: trio-websocket~=0.9 in f:\\anaconda\\che\\lib\\site-packages (from selenium) (0.12.2)\n",
      "Requirement already satisfied: websocket-client~=1.8 in f:\\anaconda\\che\\lib\\site-packages (from selenium) (1.8.0)\n",
      "Requirement already satisfied: typing_extensions~=4.9 in f:\\anaconda\\che\\lib\\site-packages (from selenium) (4.13.2)\n",
      "Requirement already satisfied: trio~=0.17 in f:\\anaconda\\che\\lib\\site-packages (from selenium) (0.27.0)\n",
      "Requirement already satisfied: certifi>=2021.10.8 in f:\\anaconda\\che\\lib\\site-packages (from selenium) (2025.10.5)\n",
      "Requirement already satisfied: idna in f:\\anaconda\\che\\lib\\site-packages (from trio~=0.17->selenium) (2.10)\n",
      "Requirement already satisfied: cffi>=1.14 in f:\\anaconda\\che\\lib\\site-packages (from trio~=0.17->selenium) (1.14.5)\n",
      "Requirement already satisfied: outcome in f:\\anaconda\\che\\lib\\site-packages (from trio~=0.17->selenium) (1.3.0.post0)\n",
      "Requirement already satisfied: exceptiongroup in f:\\anaconda\\che\\lib\\site-packages (from trio~=0.17->selenium) (1.3.0)\n",
      "Requirement already satisfied: sortedcontainers in f:\\anaconda\\che\\lib\\site-packages (from trio~=0.17->selenium) (2.3.0)\n",
      "Requirement already satisfied: sniffio>=1.3.0 in f:\\anaconda\\che\\lib\\site-packages (from trio~=0.17->selenium) (1.3.1)\n",
      "Requirement already satisfied: attrs>=23.2.0 in f:\\anaconda\\che\\lib\\site-packages (from trio~=0.17->selenium) (25.3.0)\n",
      "Requirement already satisfied: pycparser in f:\\anaconda\\che\\lib\\site-packages (from cffi>=1.14->trio~=0.17->selenium) (2.20)\n",
      "Requirement already satisfied: wsproto>=0.14 in f:\\anaconda\\che\\lib\\site-packages (from trio-websocket~=0.9->selenium) (1.2.0)\n",
      "Requirement already satisfied: PySocks!=1.5.7,<2.0,>=1.5.6 in f:\\anaconda\\che\\lib\\site-packages (from urllib3[socks]<3,>=1.26->selenium) (1.7.1)\n",
      "Requirement already satisfied: h11<1,>=0.9.0 in f:\\anaconda\\che\\lib\\site-packages (from wsproto>=0.14->trio-websocket~=0.9->selenium) (0.16.0)\n"
     ]
    }
   ],
   "source": [
    "import requests #Sends HTTP requests to get webpage content (used for static sites)\n",
    "#import selenium #Automates browsers (needed for dynamic sites with JavaScript)\n",
    "\n",
    "!pip install selenium\n"
   ]
  },
  {
   "cell_type": "code",
   "execution_count": 17,
   "id": "30600d7f",
   "metadata": {},
   "outputs": [
    {
     "name": "stdout",
     "output_type": "stream",
     "text": [
      "Collecting webdriver-manager\n",
      "  Downloading webdriver_manager-4.0.2-py2.py3-none-any.whl (27 kB)\n",
      "Requirement already satisfied: packaging in f:\\anaconda\\che\\lib\\site-packages (from webdriver-manager) (20.9)\n",
      "Requirement already satisfied: requests in f:\\anaconda\\che\\lib\\site-packages (from webdriver-manager) (2.25.1)\n",
      "Collecting python-dotenv\n",
      "  Downloading python_dotenv-1.0.1-py3-none-any.whl (19 kB)\n",
      "Requirement already satisfied: pyparsing>=2.0.2 in f:\\anaconda\\che\\lib\\site-packages (from packaging->webdriver-manager) (2.4.7)\n",
      "Requirement already satisfied: certifi>=2017.4.17 in f:\\anaconda\\che\\lib\\site-packages (from requests->webdriver-manager) (2025.10.5)\n",
      "Requirement already satisfied: idna<3,>=2.5 in f:\\anaconda\\che\\lib\\site-packages (from requests->webdriver-manager) (2.10)\n",
      "Requirement already satisfied: chardet<5,>=3.0.2 in f:\\anaconda\\che\\lib\\site-packages (from requests->webdriver-manager) (4.0.0)\n",
      "Requirement already satisfied: urllib3<1.27,>=1.21.1 in f:\\anaconda\\che\\lib\\site-packages (from requests->webdriver-manager) (1.26.4)\n",
      "Installing collected packages: python-dotenv, webdriver-manager\n",
      "Successfully installed python-dotenv-1.0.1 webdriver-manager-4.0.2\n"
     ]
    }
   ],
   "source": [
    "!pip install webdriver-manager"
   ]
  },
  {
   "cell_type": "code",
   "execution_count": 18,
   "id": "4bc92788",
   "metadata": {},
   "outputs": [],
   "source": [
    "from selenium import webdriver\n",
    "from selenium.webdriver.common.by import By\n",
    "from selenium.webdriver.chrome.service import Service\n",
    "from webdriver_manager.chrome import ChromeDriverManager\n",
    "import time\n"
   ]
  },
  {
   "cell_type": "code",
   "execution_count": 19,
   "id": "82f5d4a2",
   "metadata": {},
   "outputs": [],
   "source": [
    "element_list=[]\n",
    "\n",
    "#Set up Chrome Options (optional)\n",
    "options = webdriver.ChromeOptions()\n",
    "options.add_argument(\"--headless\")\n",
    "options.add_argument(\"--no-sandbox\")\n",
    "options.add_argument(\"--disable-dev-shm-usage\")\n"
   ]
  },
  {
   "cell_type": "code",
   "execution_count": 21,
   "id": "372cb01e",
   "metadata": {},
   "outputs": [],
   "source": [
    "#Use a proper Service Object\n",
    "service=Service(ChromeDriverManager().install())"
   ]
  },
  {
   "cell_type": "code",
   "execution_count": 23,
   "id": "1a54fe66",
   "metadata": {},
   "outputs": [
    {
     "name": "stdout",
     "output_type": "stream",
     "text": [
      "['Packard 255 G2', '$416.99', '15.6\", AMD E2-3800 1.3GHz, 4GB, 500GB, Windows 8.1', '2 reviews']\n",
      "['Aspire E1-510', '$306.99', '15.6\", Pentium N3520 2.16GHz, 4GB, 500GB, Linux', '2 reviews']\n",
      "['ThinkPad T540p', '$1178.99', '15.6\", Core i5-4200M, 4GB, 500GB, Win7 Pro 64bit', '2 reviews']\n",
      "['ProBook', '$739.99', '14\", Core i5 2.6GHz, 4GB, 500GB, Win7 Pro 64bit', '8 reviews']\n",
      "['ThinkPad X240', '$1311.99', '12.5\", Core i5-4300U, 8GB, 240GB SSD, Win7 Pro 64bit', '12 reviews']\n",
      "['Aspire E1-572G', '$581.99', '15.6\", Core i5-4200U, 8GB, 1TB, Radeon R7 M265, Windows 8.1', '2 reviews']\n",
      "['Packard 255 G2', '$416.99', '15.6\", AMD E2-3800 1.3GHz, 4GB, 500GB, Windows 8.1', '2 reviews']\n",
      "['Aspire E1-510', '$306.99', '15.6\", Pentium N3520 2.16GHz, 4GB, 500GB, Linux', '2 reviews']\n",
      "['ThinkPad T540p', '$1178.99', '15.6\", Core i5-4200M, 4GB, 500GB, Win7 Pro 64bit', '2 reviews']\n",
      "['ProBook', '$739.99', '14\", Core i5 2.6GHz, 4GB, 500GB, Win7 Pro 64bit', '8 reviews']\n",
      "['ThinkPad X240', '$1311.99', '12.5\", Core i5-4300U, 8GB, 240GB SSD, Win7 Pro 64bit', '12 reviews']\n",
      "['Aspire E1-572G', '$581.99', '15.6\", Core i5-4200U, 8GB, 1TB, Radeon R7 M265, Windows 8.1', '2 reviews']\n"
     ]
    }
   ],
   "source": [
    "for page in range(1,3):\n",
    "    #Initialize driver properly\n",
    "    driver=webdriver.Chrome(service=service,options=options)\n",
    "    \n",
    "    #Load URL\n",
    "    url=f\"https://webscraper.io/test-sites/e-commerce/static/computers/laptops?page=%7Bpage%7D\"\n",
    "    driver.get(url)\n",
    "    time.sleep(2)  #Optional wait to ensure page loads\n",
    "    \n",
    "    #Extract page details\n",
    "    titles=driver.find_elements(By.CLASS_NAME,\"title\")\n",
    "    prices=driver.find_elements(By.CLASS_NAME,\"price\")\n",
    "    descriptions=driver.find_elements(By.CLASS_NAME,\"description\")\n",
    "    ratings=driver.find_elements(By.CLASS_NAME,\"ratings\")\n",
    "    \n",
    "    #Store resluts in a list\n",
    "    for i in range(len(titles)):\n",
    "        element_list.append([\n",
    "            titles[i].text,\n",
    "            prices[i].text,\n",
    "            descriptions[i].text,\n",
    "            ratings[i].text\n",
    "        ])\n",
    "        \n",
    "    driver.quit()\n",
    "    \n",
    "    \n",
    "#Display extracted data\n",
    "for row in element_list:\n",
    "    print(row)"
   ]
  },
  {
   "cell_type": "markdown",
   "id": "2d20f851",
   "metadata": {},
   "source": [
    "ChromeOptions() + --headless: Runs the browser in the background without opening a visible window — ideal for automation and speed.\n",
    "\n",
    "ChromeDriverManager().install(): Automatically downloads the correct version of ChromeDriver based on your Chrome browser.\n",
    "\n",
    "Service(...): Wraps the ChromeDriver path for proper configuration with Selenium 4+.\n",
    "\n",
    "webdriver.Chrome(service=..., options=...): Launches a Chrome browser instance with the given setup.\n",
    "\n",
    "driver.get(url): Navigates to the specified page URL.\n",
    "\n",
    "find_elements(By.CLASS_NAME, \"class\"): Extracts all elements matching the given class name like titles, prices, etc.\n",
    "\n",
    ".text: Retrieves the visible text content from an HTML element.\n",
    "\n",
    "element_list.append([...]): Stores each product's extracted data in a structured list."
   ]
  }
 ],
 "metadata": {
  "kernelspec": {
   "display_name": "Python 3",
   "language": "python",
   "name": "python3"
  },
  "language_info": {
   "codemirror_mode": {
    "name": "ipython",
    "version": 3
   },
   "file_extension": ".py",
   "mimetype": "text/x-python",
   "name": "python",
   "nbconvert_exporter": "python",
   "pygments_lexer": "ipython3",
   "version": "3.8.8"
  }
 },
 "nbformat": 4,
 "nbformat_minor": 5
}
